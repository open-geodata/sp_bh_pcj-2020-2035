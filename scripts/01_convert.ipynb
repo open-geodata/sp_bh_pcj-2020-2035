{
 "cells": [
  {
   "cell_type": "markdown",
   "id": "0b46481f",
   "metadata": {},
   "source": [
    "<br>\n",
    "\n",
    "# Introdução"
   ]
  },
  {
   "cell_type": "code",
   "execution_count": null,
   "id": "f361a09a",
   "metadata": {},
   "outputs": [],
   "source": [
    "#!pip3 install open-geodata --upgrade"
   ]
  },
  {
   "cell_type": "code",
   "execution_count": null,
   "id": "511e579d",
   "metadata": {},
   "outputs": [],
   "source": [
    "from open_geodata import converts"
   ]
  },
  {
   "cell_type": "code",
   "execution_count": null,
   "id": "890d1661-7bb7-47c6-a7c6-5d1d1f2e2d8f",
   "metadata": {
    "pycharm": {
     "name": "#%%\n"
    }
   },
   "outputs": [],
   "source": [
    "from paths import *"
   ]
  },
  {
   "cell_type": "markdown",
   "id": "c4ee27d2",
   "metadata": {},
   "source": [
    "<br>\n",
    "\n",
    "## GPKC para 7ZIP"
   ]
  },
  {
   "cell_type": "code",
   "execution_count": null,
   "id": "62813f0f-960d-43fb-9f4f-4ef393a6c967",
   "metadata": {
    "pycharm": {
     "name": "#%%\n"
    }
   },
   "outputs": [],
   "source": [
    "converts.files.convert_to_7zip(output_path_gpkg, output_path_zip)"
   ]
  },
  {
   "cell_type": "code",
   "execution_count": null,
   "id": "a1976cbd",
   "metadata": {},
   "outputs": [],
   "source": []
  }
 ],
 "metadata": {
  "kernelspec": {
   "display_name": "Python 3.9.12 ('pablocarreira-py39')",
   "language": "python",
   "name": "python3"
  },
  "language_info": {
   "codemirror_mode": {
    "name": "ipython",
    "version": 3
   },
   "file_extension": ".py",
   "mimetype": "text/x-python",
   "name": "python",
   "nbconvert_exporter": "python",
   "pygments_lexer": "ipython3",
   "version": "3.9.12"
  },
  "vscode": {
   "interpreter": {
    "hash": "f37c76b4b024ed38c9f50f17f9e6defabebb1e5c97323517c6e8bca54ae41c65"
   }
  }
 },
 "nbformat": 4,
 "nbformat_minor": 5
}
