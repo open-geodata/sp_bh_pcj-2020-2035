{
 "cells": [
  {
   "cell_type": "code",
   "execution_count": null,
   "id": "fbf71dd1-7064-4d90-bdfa-4d59620b7a11",
   "metadata": {},
   "outputs": [],
   "source": [
    "import os"
   ]
  },
  {
   "cell_type": "code",
   "execution_count": null,
   "id": "890d1661-7bb7-47c6-a7c6-5d1d1f2e2d8f",
   "metadata": {},
   "outputs": [],
   "source": [
    "from paths import *"
   ]
  },
  {
   "cell_type": "code",
   "execution_count": null,
   "id": "e233def0-a6e8-4889-83d4-dfe9d9f02b53",
   "metadata": {},
   "outputs": [],
   "source": [
    "os.listdir(output_path_gpkg)"
   ]
  },
  {
   "cell_type": "code",
   "execution_count": null,
   "id": "62813f0f-960d-43fb-9f4f-4ef393a6c967",
   "metadata": {},
   "outputs": [],
   "source": []
  }
 ],
 "metadata": {
  "kernelspec": {
   "display_name": "Python [conda env:pablocarreira-py39] *",
   "language": "python",
   "name": "conda-env-pablocarreira-py39-py"
  },
  "language_info": {
   "codemirror_mode": {
    "name": "ipython",
    "version": 3
   },
   "file_extension": ".py",
   "mimetype": "text/x-python",
   "name": "python",
   "nbconvert_exporter": "python",
   "pygments_lexer": "ipython3",
   "version": "3.9.12"
  }
 },
 "nbformat": 4,
 "nbformat_minor": 5
}
